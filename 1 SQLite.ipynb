{
 "cells": [
  {
   "cell_type": "markdown",
   "id": "d4a0d82e",
   "metadata": {},
   "source": [
    "### SQL Structured Query Language\n",
    "\n",
    "A linguagem SQL se divide em três grupos\n",
    "\n",
    "DML - Data Manipulation Language (Desenvolvimento)\n",
    "- SELECT: Pesquisa de dados\n",
    "- UPDATE: Atualização de dados\n",
    "- DELETE: Eliminação de dados\n",
    "- INSERT: Inserção de dados\n",
    "\n",
    "DDL - Data Definition Language (Suporte)\n",
    "- CREATE: Definição de um objeto (tabela, índice)\n",
    "- ALTER: Alteração de um objeto\n",
    "- DROP: Eliminação de um objeto\n",
    "\n",
    "DCL - Data Control Language (Desenvolvimento/Suporte)\n",
    "- GRANT: Fornece um privilégio\n",
    "- REVOKE: Tira um privilégio"
   ]
  },
  {
   "cell_type": "markdown",
   "id": "a861407f",
   "metadata": {},
   "source": [
    "### SQLite\n",
    "\n",
    "SQLite é um engine (motor) de banco de dados SQL sendo uma versão simplificada de um SGBD gerando um alto ganho de performance em uma maquina local, todo o banco de dados criando em SQLite fica em um unico arquivo.\n",
    "\n",
    "Por que usar o SQLite?\n",
    "- Não requer um processo servidor dedicado.\n",
    "- Configuração zero, o que significa que nenhuma configuração ou administração é necessária.\n",
    "- Um banco de dados SQLite completo é armazenado em um único arquivo multiplataforma.\n",
    "- SQLite é pequeno e leve, menos de 400KB quando totalmente configurado."
   ]
  },
  {
   "cell_type": "code",
   "execution_count": 51,
   "id": "af169d58",
   "metadata": {},
   "outputs": [],
   "source": [
    "# Usando a pacote OS para excluir uma tabela\n",
    "import os\n",
    "os.remove('./dados/prods.db') if os.path.exists('./dados/prods.db') else None"
   ]
  },
  {
   "cell_type": "code",
   "execution_count": 28,
   "id": "4251a8c1",
   "metadata": {},
   "outputs": [],
   "source": [
    "# Vamos iniciar importando o SQLite\n",
    "import sqlite3\n",
    "import matplotlib.pyplot as plt"
   ]
  },
  {
   "cell_type": "code",
   "execution_count": null,
   "id": "0d9d67a7",
   "metadata": {},
   "outputs": [],
   "source": []
  },
  {
   "cell_type": "code",
   "execution_count": 2,
   "id": "f456f0f8",
   "metadata": {},
   "outputs": [],
   "source": [
    "# Agora vamos criar uma conexão com o banco de dados\n",
    "# Se o banco de dados não existir ele é criado nesse momento\n",
    "con = sqlite3.connect('./dados/escola.db')"
   ]
  },
  {
   "cell_type": "code",
   "execution_count": 3,
   "id": "235b3a62",
   "metadata": {},
   "outputs": [],
   "source": [
    "# Precisamos criar um cursor\n",
    "# Um cursor permite que percorra todos os registros em um conjunto de dados\n",
    "cur = con.cursor()"
   ]
  },
  {
   "cell_type": "code",
   "execution_count": 4,
   "id": "d3e48bde",
   "metadata": {},
   "outputs": [],
   "source": [
    "# Agora precisamos criar as tabelas e iremos usar comandos do SQL\n",
    "# Vamos alocar os comandos em uma variavel\n",
    "\n",
    "sql_create = 'create table cursos '\\\n",
    "'(id integer primary key, '\\\n",
    "'titulo varchar(100), '\\\n",
    "'categoria varchar(140))'"
   ]
  },
  {
   "cell_type": "code",
   "execution_count": 5,
   "id": "1c47acf1",
   "metadata": {},
   "outputs": [
    {
     "ename": "OperationalError",
     "evalue": "table cursos already exists",
     "output_type": "error",
     "traceback": [
      "\u001b[1;31m---------------------------------------------------------------------------\u001b[0m",
      "\u001b[1;31mOperationalError\u001b[0m                          Traceback (most recent call last)",
      "\u001b[1;32m<ipython-input-5-58d47d2d6025>\u001b[0m in \u001b[0;36m<module>\u001b[1;34m\u001b[0m\n\u001b[0;32m      1\u001b[0m \u001b[1;31m# Executando a instrução sql no cursor\u001b[0m\u001b[1;33m\u001b[0m\u001b[1;33m\u001b[0m\u001b[0m\n\u001b[1;32m----> 2\u001b[1;33m \u001b[0mcur\u001b[0m\u001b[1;33m.\u001b[0m\u001b[0mexecute\u001b[0m\u001b[1;33m(\u001b[0m\u001b[0msql_create\u001b[0m\u001b[1;33m)\u001b[0m\u001b[1;33m\u001b[0m\u001b[1;33m\u001b[0m\u001b[0m\n\u001b[0m",
      "\u001b[1;31mOperationalError\u001b[0m: table cursos already exists"
     ]
    }
   ],
   "source": [
    "# Executando a instrução sql no cursor\n",
    "cur.execute(sql_create)"
   ]
  },
  {
   "cell_type": "code",
   "execution_count": 12,
   "id": "86089384",
   "metadata": {},
   "outputs": [],
   "source": [
    "# Criando outra sentença SQL para inserir registro\n",
    "sql_insert = 'insert into cursos values (?, ?, ?)'"
   ]
  },
  {
   "cell_type": "code",
   "execution_count": 11,
   "id": "84dda9ca",
   "metadata": {},
   "outputs": [],
   "source": [
    "# Dados a inserir\n",
    "recset = [(1000, 'Ciência de Dados', 'Data Science'),\n",
    "          (1001, 'Big Data Fundamentos', 'Big Data'),\n",
    "          (1002, 'Python Fundamentos', 'Análise de Dados')]"
   ]
  },
  {
   "cell_type": "code",
   "execution_count": 12,
   "id": "2c0388eb",
   "metadata": {},
   "outputs": [],
   "source": [
    "# Inserindo os registros\n",
    "for rec in recset:\n",
    "    cur.execute(sql_insert, rec)"
   ]
  },
  {
   "cell_type": "code",
   "execution_count": 13,
   "id": "7a953ece",
   "metadata": {},
   "outputs": [],
   "source": [
    "# Gravar a transação\n",
    "con.commit()"
   ]
  },
  {
   "cell_type": "code",
   "execution_count": 7,
   "id": "b94d30fd",
   "metadata": {},
   "outputs": [],
   "source": [
    "# Criando outra sentença SQL para selecionar registros\n",
    "sql_select = 'select * from cursos'"
   ]
  },
  {
   "cell_type": "code",
   "execution_count": 8,
   "id": "c641a6e3",
   "metadata": {},
   "outputs": [],
   "source": [
    "# Selecionando todos os registros e recuperando os registros\n",
    "cur.execute(sql_select)\n",
    "dados = cur.fetchall()"
   ]
  },
  {
   "cell_type": "code",
   "execution_count": 17,
   "id": "5e51fa0f",
   "metadata": {},
   "outputs": [
    {
     "name": "stdout",
     "output_type": "stream",
     "text": [
      "Curso ID: 1000, Titulo: Ciência de Dados, Categoria: Data Science \n",
      "\n",
      "Curso ID: 1001, Titulo: Big Data Fundamentos, Categoria: Big Data \n",
      "\n",
      "Curso ID: 1002, Titulo: Python Fundamentos, Categoria: Análise de Dados \n",
      "\n"
     ]
    }
   ],
   "source": [
    "# Imprimir os dados\n",
    "for row in dados:\n",
    "    print('Curso ID: %d, Titulo: %s, Categoria: %s \\n' % row)"
   ]
  },
  {
   "cell_type": "code",
   "execution_count": 10,
   "id": "77859ab9",
   "metadata": {},
   "outputs": [],
   "source": [
    "# Gerando mais registros\n",
    "recset = [(1003,'Gestão de Dados com MongoDB','Big Data'),\n",
    "          (1004,'R Fundamentos','Análise de Dados')]"
   ]
  },
  {
   "cell_type": "code",
   "execution_count": 13,
   "id": "485f7c27",
   "metadata": {},
   "outputs": [],
   "source": [
    "# Adicionando novos valores\n",
    "for rec in recset:\n",
    "    cur.execute(sql_insert, rec)"
   ]
  },
  {
   "cell_type": "code",
   "execution_count": 14,
   "id": "97d790b8",
   "metadata": {},
   "outputs": [
    {
     "name": "stdout",
     "output_type": "stream",
     "text": [
      "Curso ID: 1000, Titulo: Ciência de Dados, Categoria: Data Science \n",
      "\n",
      "Curso ID: 1001, Titulo: Big Data Fundamentos, Categoria: Big Data \n",
      "\n",
      "Curso ID: 1002, Titulo: Python Fundamentos, Categoria: Análise de Dados \n",
      "\n",
      "Curso ID: 1003, Titulo: Gestão de Dados com MongoDB, Categoria: Big Data \n",
      "\n",
      "Curso ID: 1004, Titulo: R Fundamentos, Categoria: Análise de Dados \n",
      "\n"
     ]
    }
   ],
   "source": [
    "# Selecionando todos os valores\n",
    "cur.execute(sql_select)\n",
    "dados = cur.fetchall()\n",
    "\n",
    "# Imprimir todos os dados\n",
    "for row in dados:\n",
    "    print('Curso ID: %d, Titulo: %s, Categoria: %s \\n' % row)"
   ]
  },
  {
   "cell_type": "code",
   "execution_count": 15,
   "id": "9c1b8ada",
   "metadata": {},
   "outputs": [],
   "source": [
    "con.commit()"
   ]
  },
  {
   "cell_type": "code",
   "execution_count": 16,
   "id": "5b83e3a0",
   "metadata": {},
   "outputs": [],
   "source": [
    "# Fechando a conexão do banco de dados\n",
    "con.close()"
   ]
  },
  {
   "cell_type": "code",
   "execution_count": null,
   "id": "5b87263f",
   "metadata": {},
   "outputs": [],
   "source": []
  },
  {
   "cell_type": "code",
   "execution_count": 31,
   "id": "fd63fd0c",
   "metadata": {},
   "outputs": [],
   "source": [
    "# Criando um novo banco de dados para produtos de uma loja\n",
    "conn = sqlite3.connect('./dados/prods.db') \n",
    "# Criando o cursor\n",
    "cur = conn.cursor()"
   ]
  },
  {
   "cell_type": "code",
   "execution_count": 2,
   "id": "2938cb57",
   "metadata": {},
   "outputs": [],
   "source": [
    "# Criar função para criar tabela\n",
    "def create_table():\n",
    "    cur.execute('CREATE TABLE IF NOT EXISTS Produtos(id INTEGER PRIMARY KEY AUTOINCREMENT NOT NULL, date TEXT, prod_name TEXT, tipo_prod TEXT, valor REAL)')\n",
    "\n",
    "# Criar função para inserir um linha a partir dos parametros da função\n",
    "def insert(lista):\n",
    "    cur.execute('INSERT INTO Produtos VALUES(?,?,?,?,?)', lista)\n",
    "    conn.commit()\n",
    "\n",
    "# Função para fechar o banco de dados\n",
    "def close():\n",
    "    cur.close()\n",
    "    conn.close()\n",
    "    \n",
    "# Função para leitura de todos os dados    \n",
    "def imprimir():\n",
    "    cur.execute('SELECT * FROM Produtos')\n",
    "    for row in cur.fetchall():\n",
    "        print(row)\n",
    "        \n",
    "\n",
    "# Função para leitura dos registros especificos\n",
    "def imprimi_registros():\n",
    "    cur.execute('SELECT * FROM PRODUTOS WHERE valor > 298.0')\n",
    "    for row in cur.fetchall():\n",
    "        print(row)\n",
    "\n",
    "# Função para leitura das colunas especificas\n",
    "def imprimi_coluna():\n",
    "    cur.execute('SELECT * FROM Produtos')\n",
    "    for row in cur.fetchall():\n",
    "        print(row[3])\n",
    "        \n",
    "        \n",
    "# Update\n",
    "def atualiza_dados():\n",
    "    cur.execute('UPDATE Produtos SET valor = 179.90 WHERE valor <= 159.90')\n",
    "    conn.commit()\n",
    "    \n",
    "\n",
    "# Delete \n",
    "def remove_dados():\n",
    "    cur.execute('DELETE FROM Produtos WHERE valor <= 99.90')\n",
    "    conn.commit()\n",
    "    "
   ]
  },
  {
   "cell_type": "code",
   "execution_count": 21,
   "id": "1d9acd69",
   "metadata": {},
   "outputs": [],
   "source": [
    "lista = [6, '30-08-2022', 'Samsung Galaxy A30', 'Smartphone', 77.90]"
   ]
  },
  {
   "cell_type": "code",
   "execution_count": null,
   "id": "7c5d0787",
   "metadata": {},
   "outputs": [],
   "source": [
    "# Chamando a função para criar a tabela\n",
    "create_table()"
   ]
  },
  {
   "cell_type": "code",
   "execution_count": 22,
   "id": "0b0ddbbf",
   "metadata": {},
   "outputs": [],
   "source": [
    "# Inserindo valores a partir da função passando os parametros \n",
    "insert(lista)"
   ]
  },
  {
   "cell_type": "code",
   "execution_count": 23,
   "id": "52b5b7c8",
   "metadata": {
    "scrolled": true
   },
   "outputs": [
    {
     "name": "stdout",
     "output_type": "stream",
     "text": [
      "(1, '27-07-2022', 'Redragon K688 Rainbow', 'Teclado', 347.9)\n",
      "(2, '27-07-2022', 'Redragon K617 Fizz', 'Teclado', 277.9)\n",
      "(3, '31-08-2022', 'Fifine Gamer H6', 'Headset', 179.9)\n",
      "(4, '31-08-2022', 'SelfiePro Bluetooth', 'Tripe', 179.9)\n",
      "(5, '30-08-2022', 'Fifine Ampligame A8', 'Microfone', 377.9)\n",
      "(6, '30-08-2022', 'Samsung Galaxy A30', 'Smartphone', 77.9)\n"
     ]
    }
   ],
   "source": [
    "# Retornando os valores\n",
    "imprimir()"
   ]
  },
  {
   "cell_type": "code",
   "execution_count": 17,
   "id": "f7d54941",
   "metadata": {},
   "outputs": [
    {
     "name": "stdout",
     "output_type": "stream",
     "text": [
      "(1, '27-07-2022', 'Redragon K688 Rainbow', 'Teclado', 347.9)\n",
      "(5, '30-08-2022', 'Fifine Ampligame A8', 'Microfone', 377.9)\n"
     ]
    }
   ],
   "source": [
    "# Retornando registros especificos\n",
    "imprimi_registros()"
   ]
  },
  {
   "cell_type": "code",
   "execution_count": 18,
   "id": "cd5f24fa",
   "metadata": {},
   "outputs": [
    {
     "name": "stdout",
     "output_type": "stream",
     "text": [
      "Teclado\n",
      "Teclado\n",
      "Headset\n",
      "Tripe\n",
      "Microfone\n"
     ]
    }
   ],
   "source": [
    "# Retornando colunas especificas\n",
    "imprimi_coluna()"
   ]
  },
  {
   "cell_type": "code",
   "execution_count": 19,
   "id": "c3ff73f1",
   "metadata": {},
   "outputs": [],
   "source": [
    "# Alterando os dados com Update\n",
    "atualiza_dados()"
   ]
  },
  {
   "cell_type": "code",
   "execution_count": 24,
   "id": "5244db6c",
   "metadata": {
    "scrolled": true
   },
   "outputs": [
    {
     "name": "stdout",
     "output_type": "stream",
     "text": [
      "(1, '27-07-2022', 'Redragon K688 Rainbow', 'Teclado', 347.9)\n",
      "(2, '27-07-2022', 'Redragon K617 Fizz', 'Teclado', 277.9)\n",
      "(3, '31-08-2022', 'Fifine Gamer H6', 'Headset', 179.9)\n",
      "(4, '31-08-2022', 'SelfiePro Bluetooth', 'Tripe', 179.9)\n",
      "(5, '30-08-2022', 'Fifine Ampligame A8', 'Microfone', 377.9)\n",
      "(6, '30-08-2022', 'Samsung Galaxy A30', 'Smartphone', 77.9)\n"
     ]
    }
   ],
   "source": [
    "# Retornando os valores\n",
    "imprimir()"
   ]
  },
  {
   "cell_type": "code",
   "execution_count": 25,
   "id": "f7b6647f",
   "metadata": {},
   "outputs": [],
   "source": [
    "# Removendo dados com o Delete\n",
    "remove_dados()"
   ]
  },
  {
   "cell_type": "code",
   "execution_count": 26,
   "id": "e29392df",
   "metadata": {},
   "outputs": [
    {
     "name": "stdout",
     "output_type": "stream",
     "text": [
      "(1, '27-07-2022', 'Redragon K688 Rainbow', 'Teclado', 347.9)\n",
      "(2, '27-07-2022', 'Redragon K617 Fizz', 'Teclado', 277.9)\n",
      "(3, '31-08-2022', 'Fifine Gamer H6', 'Headset', 179.9)\n",
      "(4, '31-08-2022', 'SelfiePro Bluetooth', 'Tripe', 179.9)\n",
      "(5, '30-08-2022', 'Fifine Ampligame A8', 'Microfone', 377.9)\n"
     ]
    }
   ],
   "source": [
    "# Retornando os valores\n",
    "imprimir()"
   ]
  },
  {
   "cell_type": "code",
   "execution_count": 27,
   "id": "98abb8da",
   "metadata": {},
   "outputs": [],
   "source": [
    "# Fechando o banco\n",
    "close()"
   ]
  },
  {
   "cell_type": "code",
   "execution_count": 33,
   "id": "9dd95886",
   "metadata": {},
   "outputs": [],
   "source": [
    "import plotly.express as px"
   ]
  },
  {
   "cell_type": "code",
   "execution_count": 42,
   "id": "ccb90e34",
   "metadata": {},
   "outputs": [],
   "source": [
    "# Vamos trabalhar com gráficos a partir do Matplotlib usando o banco de dados\n",
    "def dados_grafico():\n",
    "    cur.execute(\"SELECT id, valor FROM Produtos\")\n",
    "    ids = []\n",
    "    valores = []\n",
    "    dados = cur.fetchall()\n",
    "    for row in dados:\n",
    "        ids.append(row[0])\n",
    "        valores.append(row[1])\n",
    "        \n",
    "    plt.bar(ids, valores)\n",
    "    plt.show()"
   ]
  },
  {
   "cell_type": "code",
   "execution_count": 43,
   "id": "fe1f4cde",
   "metadata": {},
   "outputs": [
    {
     "data": {
      "image/png": "[encoded data removed]",
      "text/plain": [
       "<Figure size 432x288 with 1 Axes>"
      ]
     },
     "metadata": {
      "needs_background": "light"
     },
     "output_type": "display_data"
    }
   ],
   "source": [
    "# Gerando gráficos\n",
    "dados_grafico()"
   ]
  },
  {
   "cell_type": "code",
   "execution_count": null,
   "id": "7dec1c78",
   "metadata": {},
   "outputs": [],
   "source": []
  },
  {
   "cell_type": "code",
   "execution_count": null,
   "id": "6c679210",
   "metadata": {},
   "outputs": [],
   "source": []
  },
  {
   "cell_type": "code",
   "execution_count": 31,
   "id": "abd25821",
   "metadata": {},
   "outputs": [],
   "source": []
  },
  {
   "cell_type": "code",
   "execution_count": null,
   "id": "505d259f",
   "metadata": {},
   "outputs": [],
   "source": []
  },
  {
   "cell_type": "code",
   "execution_count": null,
   "id": "eda33a26",
   "metadata": {},
   "outputs": [],
   "source": []
  },
  {
   "cell_type": "code",
   "execution_count": null,
   "id": "27b1a3cb",
   "metadata": {},
   "outputs": [],
   "source": []
  },
  {
   "cell_type": "code",
   "execution_count": null,
   "id": "47e852ba",
   "metadata": {},
   "outputs": [],
   "source": []
  },
  {
   "cell_type": "code",
   "execution_count": null,
   "id": "ae959652",
   "metadata": {},
   "outputs": [],
   "source": []
  }
 ],
 "metadata": {
  "kernelspec": {
   "display_name": "Python 3 (ipykernel)",
   "language": "python",
   "name": "python3"
  },
  "language_info": {
   "codemirror_mode": {
    "name": "ipython",
    "version": 3
   },
   "file_extension": ".py",
   "mimetype": "text/x-python",
   "name": "python",
   "nbconvert_exporter": "python",
   "pygments_lexer": "ipython3",
   "version": "3.9.7"
  }
 },
 "nbformat": 4,
 "nbformat_minor": 5
}
